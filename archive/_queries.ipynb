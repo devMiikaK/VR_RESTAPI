{
 "cells": [
  {
   "cell_type": "code",
   "execution_count": 3,
   "metadata": {},
   "outputs": [],
   "source": [
    "import matplotlib.pyplot as plt\n",
    "import polars as pl\n",
    "import duckdb"
   ]
  },
  {
   "cell_type": "code",
   "execution_count": 4,
   "metadata": {},
   "outputs": [],
   "source": [
    "# funktio kyselyitä varten\n",
    "def query(query, db_path='../data/datalake/database.duckdb'):\n",
    "    con = duckdb.connect(database=db_path, read_only=False)\n",
    "    try:\n",
    "        result = con.execute(query)\n",
    "        df_result = result.fetch_df()\n",
    "        return df_result\n",
    "    except Exception as e:\n",
    "        print(f\"error: {e}\")\n",
    "    finally:\n",
    "        con.close()\n"
   ]
  },
  {
   "cell_type": "code",
   "execution_count": 11,
   "metadata": {},
   "outputs": [
    {
     "name": "stdout",
     "output_type": "stream",
     "text": [
      "error: Catalog Error: Table with name bronze_layer does not exist!\n",
      "Did you mean \"gold_layer\"?\n"
     ]
    }
   ],
   "source": [
    "query(\"drop table bronze_layer;\")"
   ]
  },
  {
   "cell_type": "code",
   "execution_count": 8,
   "metadata": {},
   "outputs": [
    {
     "data": {
      "text/html": [
       "<div>\n",
       "<style scoped>\n",
       "    .dataframe tbody tr th:only-of-type {\n",
       "        vertical-align: middle;\n",
       "    }\n",
       "\n",
       "    .dataframe tbody tr th {\n",
       "        vertical-align: top;\n",
       "    }\n",
       "\n",
       "    .dataframe thead th {\n",
       "        text-align: right;\n",
       "    }\n",
       "</style>\n",
       "<table border=\"1\" class=\"dataframe\">\n",
       "  <thead>\n",
       "    <tr style=\"text-align: right;\">\n",
       "      <th></th>\n",
       "      <th>stationShortCode</th>\n",
       "      <th>avg_delay</th>\n",
       "      <th>percent_delays</th>\n",
       "      <th>percent_early_arrivals</th>\n",
       "    </tr>\n",
       "  </thead>\n",
       "  <tbody>\n",
       "    <tr>\n",
       "      <th>0</th>\n",
       "      <td>OLK</td>\n",
       "      <td>1.460888</td>\n",
       "      <td>0.673815</td>\n",
       "      <td>0.015938</td>\n",
       "    </tr>\n",
       "    <tr>\n",
       "      <th>1</th>\n",
       "      <td>HKH</td>\n",
       "      <td>1.039891</td>\n",
       "      <td>0.454729</td>\n",
       "      <td>0.047499</td>\n",
       "    </tr>\n",
       "    <tr>\n",
       "      <th>2</th>\n",
       "      <td>KVY</td>\n",
       "      <td>1.451203</td>\n",
       "      <td>0.599398</td>\n",
       "      <td>0.046670</td>\n",
       "    </tr>\n",
       "    <tr>\n",
       "      <th>3</th>\n",
       "      <td>LLH</td>\n",
       "      <td>0.653011</td>\n",
       "      <td>0.453331</td>\n",
       "      <td>0.200798</td>\n",
       "    </tr>\n",
       "    <tr>\n",
       "      <th>4</th>\n",
       "      <td>VIA</td>\n",
       "      <td>-1.084869</td>\n",
       "      <td>0.512589</td>\n",
       "      <td>0.204122</td>\n",
       "    </tr>\n",
       "    <tr>\n",
       "      <th>...</th>\n",
       "      <td>...</td>\n",
       "      <td>...</td>\n",
       "      <td>...</td>\n",
       "      <td>...</td>\n",
       "    </tr>\n",
       "    <tr>\n",
       "      <th>512</th>\n",
       "      <td>TUS</td>\n",
       "      <td>2.430939</td>\n",
       "      <td>0.607735</td>\n",
       "      <td>0.000000</td>\n",
       "    </tr>\n",
       "    <tr>\n",
       "      <th>513</th>\n",
       "      <td>PO</td>\n",
       "      <td>4.596754</td>\n",
       "      <td>0.859900</td>\n",
       "      <td>0.015567</td>\n",
       "    </tr>\n",
       "    <tr>\n",
       "      <th>514</th>\n",
       "      <td>KUT</td>\n",
       "      <td>5.017522</td>\n",
       "      <td>0.972534</td>\n",
       "      <td>0.001248</td>\n",
       "    </tr>\n",
       "    <tr>\n",
       "      <th>515</th>\n",
       "      <td>PL</td>\n",
       "      <td>-10.487578</td>\n",
       "      <td>0.111538</td>\n",
       "      <td>0.494231</td>\n",
       "    </tr>\n",
       "    <tr>\n",
       "      <th>516</th>\n",
       "      <td>RMI</td>\n",
       "      <td>-9.000000</td>\n",
       "      <td>0.375000</td>\n",
       "      <td>0.500000</td>\n",
       "    </tr>\n",
       "  </tbody>\n",
       "</table>\n",
       "<p>517 rows × 4 columns</p>\n",
       "</div>"
      ],
      "text/plain": [
       "    stationShortCode  avg_delay  percent_delays  percent_early_arrivals\n",
       "0                OLK   1.460888        0.673815                0.015938\n",
       "1                HKH   1.039891        0.454729                0.047499\n",
       "2                KVY   1.451203        0.599398                0.046670\n",
       "3                LLH   0.653011        0.453331                0.200798\n",
       "4                VIA  -1.084869        0.512589                0.204122\n",
       "..               ...        ...             ...                     ...\n",
       "512              TUS   2.430939        0.607735                0.000000\n",
       "513               PO   4.596754        0.859900                0.015567\n",
       "514              KUT   5.017522        0.972534                0.001248\n",
       "515               PL -10.487578        0.111538                0.494231\n",
       "516              RMI  -9.000000        0.375000                0.500000\n",
       "\n",
       "[517 rows x 4 columns]"
      ]
     },
     "execution_count": 8,
     "metadata": {},
     "output_type": "execute_result"
    }
   ],
   "source": [
    "query(\"select * from gold_layer\")"
   ]
  },
  {
   "cell_type": "code",
   "execution_count": null,
   "metadata": {},
   "outputs": [],
   "source": []
  }
 ],
 "metadata": {
  "kernelspec": {
   "display_name": ".venv",
   "language": "python",
   "name": "python3"
  },
  "language_info": {
   "codemirror_mode": {
    "name": "ipython",
    "version": 3
   },
   "file_extension": ".py",
   "mimetype": "text/x-python",
   "name": "python",
   "nbconvert_exporter": "python",
   "pygments_lexer": "ipython3",
   "version": "3.10.0"
  }
 },
 "nbformat": 4,
 "nbformat_minor": 2
}
