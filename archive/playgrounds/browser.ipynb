{
 "cells": [
  {
   "cell_type": "code",
   "execution_count": 5,
   "metadata": {},
   "outputs": [],
   "source": [
    "import duckdb\n",
    "from pathlib import Path\n",
    "project_dir = Path().absolute().parent.parent\n",
    "database_path = project_dir / \"data\" / \"warehouse\" / \"example\"\n",
    "conn = duckdb.connect(str(database_path))"
   ]
  },
  {
   "cell_type": "code",
   "execution_count": 6,
   "metadata": {},
   "outputs": [
    {
     "data": {
      "text/html": [
       "<div><style>\n",
       ".dataframe > thead > tr > th,\n",
       ".dataframe > tbody > tr > td {\n",
       "  text-align: right;\n",
       "  white-space: pre-wrap;\n",
       "}\n",
       "</style>\n",
       "<small>shape: (0, 6)</small><table border=\"1\" class=\"dataframe\"><thead><tr><th>database</th><th>schema</th><th>name</th><th>column_names</th><th>column_types</th><th>temporary</th></tr><tr><td>str</td><td>str</td><td>str</td><td>list[str]</td><td>list[str]</td><td>bool</td></tr></thead><tbody></tbody></table></div>"
      ],
      "text/plain": [
       "shape: (0, 6)\n",
       "┌──────────┬────────┬──────┬──────────────┬──────────────┬───────────┐\n",
       "│ database ┆ schema ┆ name ┆ column_names ┆ column_types ┆ temporary │\n",
       "│ ---      ┆ ---    ┆ ---  ┆ ---          ┆ ---          ┆ ---       │\n",
       "│ str      ┆ str    ┆ str  ┆ list[str]    ┆ list[str]    ┆ bool      │\n",
       "╞══════════╪════════╪══════╪══════════════╪══════════════╪═══════════╡\n",
       "└──────────┴────────┴──────┴──────────────┴──────────────┴───────────┘"
      ]
     },
     "execution_count": 6,
     "metadata": {},
     "output_type": "execute_result"
    }
   ],
   "source": [
    "conn.execute(\"SHOW ALL TABLES\").pl()"
   ]
  },
  {
   "cell_type": "code",
   "execution_count": 4,
   "metadata": {},
   "outputs": [],
   "source": [
    "\n",
    "conn.close()"
   ]
  },
  {
   "cell_type": "code",
   "execution_count": null,
   "metadata": {},
   "outputs": [],
   "source": []
  }
 ],
 "metadata": {
  "kernelspec": {
   "display_name": ".venv",
   "language": "python",
   "name": "python3"
  },
  "language_info": {
   "codemirror_mode": {
    "name": "ipython",
    "version": 3
   },
   "file_extension": ".py",
   "mimetype": "text/x-python",
   "name": "python",
   "nbconvert_exporter": "python",
   "pygments_lexer": "ipython3",
   "version": "3.10.0"
  }
 },
 "nbformat": 4,
 "nbformat_minor": 2
}
