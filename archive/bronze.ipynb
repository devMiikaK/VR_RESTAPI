{
 "cells": [
  {
   "cell_type": "code",
   "execution_count": 22,
   "metadata": {},
   "outputs": [],
   "source": [
    "import duckdb\n",
    "import polars as pl\n",
    "import pandas as pd\n",
    "\n",
    "\n"
   ]
  },
  {
   "cell_type": "code",
   "execution_count": 23,
   "metadata": {},
   "outputs": [
    {
     "name": "stderr",
     "output_type": "stream",
     "text": [
      "C:\\Users\\miika\\AppData\\Local\\Temp\\ipykernel_20368\\1000587667.py:1: DtypeWarning: Columns (6) have mixed types. Specify dtype option on import or set low_memory=False.\n",
      "  df = pd.read_csv(\"time_rows.csv\")\n"
     ]
    }
   ],
   "source": [
    "df = pd.read_csv(\"time_rows.csv\")\n",
    "conn = duckdb.connect(database='../data/datalake/database.duckdb', read_only=False)\n",
    "\n",
    "conn.execute(\"CREATE TABLE if not exists bronze_layer AS SELECT * FROM df\")\n",
    "conn.commit()\n",
    "\n",
    "result = conn.execute(\"SELECT * FROM bronze_layer LIMIT 5\").fetchall()\n",
    "result_columns = conn.description\n"
   ]
  },
  {
   "cell_type": "code",
   "execution_count": 24,
   "metadata": {},
   "outputs": [
    {
     "data": {
      "text/html": [
       "<div><style>\n",
       ".dataframe > thead > tr,\n",
       ".dataframe > tbody > tr {\n",
       "  text-align: right;\n",
       "  white-space: pre-wrap;\n",
       "}\n",
       "</style>\n",
       "<small>shape: (1, 1)</small><table border=\"1\" class=\"dataframe\"><thead><tr><th>name</th></tr><tr><td>str</td></tr></thead><tbody><tr><td>&quot;bronze_layer&quot;</td></tr></tbody></table></div>"
      ],
      "text/plain": [
       "shape: (1, 1)\n",
       "┌──────────────┐\n",
       "│ name         │\n",
       "│ ---          │\n",
       "│ str          │\n",
       "╞══════════════╡\n",
       "│ bronze_layer │\n",
       "└──────────────┘"
      ]
     },
     "execution_count": 24,
     "metadata": {},
     "output_type": "execute_result"
    }
   ],
   "source": [
    "conn.execute(\"show tables;\").pl()"
   ]
  },
  {
   "cell_type": "code",
   "execution_count": 26,
   "metadata": {},
   "outputs": [
    {
     "data": {
      "text/html": [
       "<div><style>\n",
       ".dataframe > thead > tr,\n",
       ".dataframe > tbody > tr {\n",
       "  text-align: right;\n",
       "  white-space: pre-wrap;\n",
       "}\n",
       "</style>\n",
       "<small>shape: (1_927_564, 16)</small><table border=\"1\" class=\"dataframe\"><thead><tr><th>stationShortCode</th><th>stationUICCode</th><th>countryCode</th><th>type</th><th>trainStopping</th><th>commercialStop</th><th>commercialTrack</th><th>cancelled</th><th>scheduledTime</th><th>actualTime</th><th>differenceInMinutes</th><th>causes</th><th>trainNumber</th><th>trainReady</th><th>liveEstimateTime</th><th>estimateSource</th></tr><tr><td>str</td><td>i64</td><td>str</td><td>str</td><td>i64</td><td>f64</td><td>str</td><td>i64</td><td>str</td><td>str</td><td>f64</td><td>str</td><td>i64</td><td>str</td><td>str</td><td>str</td></tr></thead><tbody><tr><td>&quot;HKI&quot;</td><td>1</td><td>&quot;FI&quot;</td><td>&quot;DEPARTURE&quot;</td><td>1</td><td>1.0</td><td>&quot;10&quot;</td><td>0</td><td>&quot;2023-11-01T04:…</td><td>&quot;2023-11-01T04:…</td><td>0.0</td><td>&quot;[]&quot;</td><td>1</td><td>&quot;{&#x27;source&#x27;: KUP…</td><td>null</td><td>null</td></tr><tr><td>&quot;PSL&quot;</td><td>10</td><td>&quot;FI&quot;</td><td>&quot;ARRIVAL&quot;</td><td>1</td><td>1.0</td><td>&quot;4&quot;</td><td>0</td><td>&quot;2023-11-01T05:…</td><td>&quot;2023-11-01T05:…</td><td>0.0</td><td>&quot;[]&quot;</td><td>1</td><td>null</td><td>null</td><td>null</td></tr><tr><td>&quot;PSL&quot;</td><td>10</td><td>&quot;FI&quot;</td><td>&quot;DEPARTURE&quot;</td><td>1</td><td>1.0</td><td>&quot;4&quot;</td><td>0</td><td>&quot;2023-11-01T05:…</td><td>&quot;2023-11-01T05:…</td><td>1.0</td><td>&quot;[]&quot;</td><td>1</td><td>null</td><td>null</td><td>null</td></tr><tr><td>&quot;KÄP&quot;</td><td>977</td><td>&quot;FI&quot;</td><td>&quot;ARRIVAL&quot;</td><td>0</td><td>null</td><td>null</td><td>0</td><td>&quot;2023-11-01T05:…</td><td>&quot;2023-11-01T05:…</td><td>1.0</td><td>&quot;[]&quot;</td><td>1</td><td>null</td><td>null</td><td>null</td></tr><tr><td>&quot;KÄP&quot;</td><td>977</td><td>&quot;FI&quot;</td><td>&quot;DEPARTURE&quot;</td><td>0</td><td>null</td><td>null</td><td>0</td><td>&quot;2023-11-01T05:…</td><td>&quot;2023-11-01T05:…</td><td>1.0</td><td>&quot;[]&quot;</td><td>1</td><td>null</td><td>null</td><td>null</td></tr><tr><td>&quot;OLK&quot;</td><td>15</td><td>&quot;FI&quot;</td><td>&quot;ARRIVAL&quot;</td><td>0</td><td>null</td><td>null</td><td>0</td><td>&quot;2023-11-01T05:…</td><td>&quot;2023-11-01T05:…</td><td>1.0</td><td>&quot;[]&quot;</td><td>1</td><td>null</td><td>null</td><td>null</td></tr><tr><td>&quot;OLK&quot;</td><td>15</td><td>&quot;FI&quot;</td><td>&quot;DEPARTURE&quot;</td><td>0</td><td>null</td><td>null</td><td>0</td><td>&quot;2023-11-01T05:…</td><td>&quot;2023-11-01T05:…</td><td>1.0</td><td>&quot;[]&quot;</td><td>1</td><td>null</td><td>null</td><td>null</td></tr><tr><td>&quot;PMK&quot;</td><td>551</td><td>&quot;FI&quot;</td><td>&quot;ARRIVAL&quot;</td><td>0</td><td>null</td><td>null</td><td>0</td><td>&quot;2023-11-01T05:…</td><td>&quot;2023-11-01T05:…</td><td>1.0</td><td>&quot;[]&quot;</td><td>1</td><td>null</td><td>null</td><td>null</td></tr><tr><td>&quot;PMK&quot;</td><td>551</td><td>&quot;FI&quot;</td><td>&quot;DEPARTURE&quot;</td><td>0</td><td>null</td><td>null</td><td>0</td><td>&quot;2023-11-01T05:…</td><td>&quot;2023-11-01T05:…</td><td>1.0</td><td>&quot;[]&quot;</td><td>1</td><td>null</td><td>null</td><td>null</td></tr><tr><td>&quot;ML&quot;</td><td>17</td><td>&quot;FI&quot;</td><td>&quot;ARRIVAL&quot;</td><td>0</td><td>null</td><td>&quot;2&quot;</td><td>0</td><td>&quot;2023-11-01T05:…</td><td>&quot;2023-11-01T05:…</td><td>1.0</td><td>&quot;[]&quot;</td><td>1</td><td>null</td><td>null</td><td>null</td></tr><tr><td>&quot;ML&quot;</td><td>17</td><td>&quot;FI&quot;</td><td>&quot;DEPARTURE&quot;</td><td>0</td><td>null</td><td>&quot;2&quot;</td><td>0</td><td>&quot;2023-11-01T05:…</td><td>&quot;2023-11-01T05:…</td><td>1.0</td><td>&quot;[]&quot;</td><td>1</td><td>null</td><td>null</td><td>null</td></tr><tr><td>&quot;TNA&quot;</td><td>552</td><td>&quot;FI&quot;</td><td>&quot;ARRIVAL&quot;</td><td>0</td><td>null</td><td>null</td><td>0</td><td>&quot;2023-11-01T05:…</td><td>&quot;2023-11-01T05:…</td><td>0.0</td><td>&quot;[]&quot;</td><td>1</td><td>null</td><td>null</td><td>null</td></tr><tr><td>&hellip;</td><td>&hellip;</td><td>&hellip;</td><td>&hellip;</td><td>&hellip;</td><td>&hellip;</td><td>&hellip;</td><td>&hellip;</td><td>&hellip;</td><td>&hellip;</td><td>&hellip;</td><td>&hellip;</td><td>&hellip;</td><td>&hellip;</td><td>&hellip;</td><td>&hellip;</td></tr><tr><td>&quot;RM&quot;</td><td>88</td><td>&quot;FI&quot;</td><td>&quot;DEPARTURE&quot;</td><td>0</td><td>null</td><td>null</td><td>0</td><td>&quot;2023-11-30T07:…</td><td>&quot;2023-11-30T06:…</td><td>-21.0</td><td>&quot;[]&quot;</td><td>76045</td><td>null</td><td>null</td><td>null</td></tr><tr><td>&quot;NM&quot;</td><td>84</td><td>&quot;FI&quot;</td><td>&quot;ARRIVAL&quot;</td><td>0</td><td>null</td><td>null</td><td>0</td><td>&quot;2023-11-30T07:…</td><td>&quot;2023-11-30T07:…</td><td>-27.0</td><td>&quot;[]&quot;</td><td>76045</td><td>null</td><td>null</td><td>null</td></tr><tr><td>&quot;NM&quot;</td><td>84</td><td>&quot;FI&quot;</td><td>&quot;DEPARTURE&quot;</td><td>0</td><td>null</td><td>null</td><td>0</td><td>&quot;2023-11-30T07:…</td><td>&quot;2023-11-30T07:…</td><td>-27.0</td><td>&quot;[]&quot;</td><td>76045</td><td>null</td><td>null</td><td>null</td></tr><tr><td>&quot;LO&quot;</td><td>81</td><td>&quot;FI&quot;</td><td>&quot;ARRIVAL&quot;</td><td>0</td><td>null</td><td>null</td><td>0</td><td>&quot;2023-11-30T07:…</td><td>&quot;2023-11-30T07:…</td><td>-29.0</td><td>&quot;[]&quot;</td><td>76045</td><td>null</td><td>null</td><td>null</td></tr><tr><td>&quot;LO&quot;</td><td>81</td><td>&quot;FI&quot;</td><td>&quot;DEPARTURE&quot;</td><td>0</td><td>null</td><td>null</td><td>0</td><td>&quot;2023-11-30T07:…</td><td>&quot;2023-11-30T07:…</td><td>-29.0</td><td>&quot;[]&quot;</td><td>76045</td><td>null</td><td>null</td><td>null</td></tr><tr><td>&quot;KRN&quot;</td><td>79</td><td>&quot;FI&quot;</td><td>&quot;ARRIVAL&quot;</td><td>0</td><td>null</td><td>null</td><td>0</td><td>&quot;2023-11-30T08:…</td><td>&quot;2023-11-30T07:…</td><td>-31.0</td><td>&quot;[]&quot;</td><td>76045</td><td>null</td><td>null</td><td>null</td></tr><tr><td>&quot;KRN&quot;</td><td>79</td><td>&quot;FI&quot;</td><td>&quot;DEPARTURE&quot;</td><td>0</td><td>null</td><td>null</td><td>0</td><td>&quot;2023-11-30T08:…</td><td>&quot;2023-11-30T07:…</td><td>-31.0</td><td>&quot;[]&quot;</td><td>76045</td><td>null</td><td>null</td><td>null</td></tr><tr><td>&quot;MSO&quot;</td><td>78</td><td>&quot;FI&quot;</td><td>&quot;ARRIVAL&quot;</td><td>0</td><td>null</td><td>null</td><td>0</td><td>&quot;2023-11-30T08:…</td><td>&quot;2023-11-30T07:…</td><td>-32.0</td><td>&quot;[]&quot;</td><td>76045</td><td>null</td><td>null</td><td>null</td></tr><tr><td>&quot;MSO&quot;</td><td>78</td><td>&quot;FI&quot;</td><td>&quot;DEPARTURE&quot;</td><td>0</td><td>null</td><td>null</td><td>0</td><td>&quot;2023-11-30T08:…</td><td>&quot;2023-11-30T07:…</td><td>-32.0</td><td>&quot;[]&quot;</td><td>76045</td><td>null</td><td>null</td><td>null</td></tr><tr><td>&quot;KR&quot;</td><td>60</td><td>&quot;FI&quot;</td><td>&quot;ARRIVAL&quot;</td><td>1</td><td>0.0</td><td>&quot;4&quot;</td><td>0</td><td>&quot;2023-11-30T08:…</td><td>null</td><td>-32.0</td><td>&quot;[]&quot;</td><td>76045</td><td>null</td><td>&quot;2023-11-30T07:…</td><td>&quot;LIIKE_AUTOMATI…</td></tr><tr><td>&quot;KR&quot;</td><td>60</td><td>&quot;FI&quot;</td><td>&quot;DEPARTURE&quot;</td><td>1</td><td>0.0</td><td>&quot;4&quot;</td><td>0</td><td>&quot;2023-11-30T08:…</td><td>null</td><td>-32.0</td><td>&quot;[]&quot;</td><td>76045</td><td>null</td><td>&quot;2023-11-30T08:…</td><td>&quot;LIIKE_AUTOMATI…</td></tr><tr><td>&quot;IKO&quot;</td><td>62</td><td>&quot;FI&quot;</td><td>&quot;ARRIVAL&quot;</td><td>1</td><td>1.0</td><td>&quot;2&quot;</td><td>0</td><td>&quot;2023-11-30T08:…</td><td>&quot;2023-11-30T07:…</td><td>-50.0</td><td>&quot;[]&quot;</td><td>76045</td><td>null</td><td>null</td><td>null</td></tr></tbody></table></div>"
      ],
      "text/plain": [
       "shape: (1_927_564, 16)\n",
       "┌───────────┬───────────┬───────────┬───────────┬───┬───────────┬───────────┬───────────┬──────────┐\n",
       "│ stationSh ┆ stationUI ┆ countryCo ┆ type      ┆ … ┆ trainNumb ┆ trainRead ┆ liveEstim ┆ estimate │\n",
       "│ ortCode   ┆ CCode     ┆ de        ┆ ---       ┆   ┆ er        ┆ y         ┆ ateTime   ┆ Source   │\n",
       "│ ---       ┆ ---       ┆ ---       ┆ str       ┆   ┆ ---       ┆ ---       ┆ ---       ┆ ---      │\n",
       "│ str       ┆ i64       ┆ str       ┆           ┆   ┆ i64       ┆ str       ┆ str       ┆ str      │\n",
       "╞═══════════╪═══════════╪═══════════╪═══════════╪═══╪═══════════╪═══════════╪═══════════╪══════════╡\n",
       "│ HKI       ┆ 1         ┆ FI        ┆ DEPARTURE ┆ … ┆ 1         ┆ {'source' ┆ null      ┆ null     │\n",
       "│           ┆           ┆           ┆           ┆   ┆           ┆ : KUPLA,  ┆           ┆          │\n",
       "│           ┆           ┆           ┆           ┆   ┆           ┆ 'accepted ┆           ┆          │\n",
       "│           ┆           ┆           ┆           ┆   ┆           ┆ ': tr…    ┆           ┆          │\n",
       "│ PSL       ┆ 10        ┆ FI        ┆ ARRIVAL   ┆ … ┆ 1         ┆ null      ┆ null      ┆ null     │\n",
       "│ PSL       ┆ 10        ┆ FI        ┆ DEPARTURE ┆ … ┆ 1         ┆ null      ┆ null      ┆ null     │\n",
       "│ KÄP       ┆ 977       ┆ FI        ┆ ARRIVAL   ┆ … ┆ 1         ┆ null      ┆ null      ┆ null     │\n",
       "│ …         ┆ …         ┆ …         ┆ …         ┆ … ┆ …         ┆ …         ┆ …         ┆ …        │\n",
       "│ MSO       ┆ 78        ┆ FI        ┆ DEPARTURE ┆ … ┆ 76045     ┆ null      ┆ null      ┆ null     │\n",
       "│ KR        ┆ 60        ┆ FI        ┆ ARRIVAL   ┆ … ┆ 76045     ┆ null      ┆ 2023-11-3 ┆ LIIKE_AU │\n",
       "│           ┆           ┆           ┆           ┆   ┆           ┆           ┆ 0T07:48:5 ┆ TOMATIC  │\n",
       "│           ┆           ┆           ┆           ┆   ┆           ┆           ┆ 1.000Z    ┆          │\n",
       "│ KR        ┆ 60        ┆ FI        ┆ DEPARTURE ┆ … ┆ 76045     ┆ null      ┆ 2023-11-3 ┆ LIIKE_AU │\n",
       "│           ┆           ┆           ┆           ┆   ┆           ┆           ┆ 0T08:00:5 ┆ TOMATIC  │\n",
       "│           ┆           ┆           ┆           ┆   ┆           ┆           ┆ 1.000Z    ┆          │\n",
       "│ IKO       ┆ 62        ┆ FI        ┆ ARRIVAL   ┆ … ┆ 76045     ┆ null      ┆ null      ┆ null     │\n",
       "└───────────┴───────────┴───────────┴───────────┴───┴───────────┴───────────┴───────────┴──────────┘"
      ]
     },
     "execution_count": 26,
     "metadata": {},
     "output_type": "execute_result"
    }
   ],
   "source": [
    "conn.execute(\"select * from bronze_layer;\").pl()"
   ]
  },
  {
   "cell_type": "code",
   "execution_count": 27,
   "metadata": {},
   "outputs": [],
   "source": [
    "conn.close()"
   ]
  },
  {
   "cell_type": "code",
   "execution_count": null,
   "metadata": {},
   "outputs": [],
   "source": []
  }
 ],
 "metadata": {
  "kernelspec": {
   "display_name": ".venv",
   "language": "python",
   "name": "python3"
  },
  "language_info": {
   "codemirror_mode": {
    "name": "ipython",
    "version": 3
   },
   "file_extension": ".py",
   "mimetype": "text/x-python",
   "name": "python",
   "nbconvert_exporter": "python",
   "pygments_lexer": "ipython3",
   "version": "3.10.0"
  }
 },
 "nbformat": 4,
 "nbformat_minor": 2
}
