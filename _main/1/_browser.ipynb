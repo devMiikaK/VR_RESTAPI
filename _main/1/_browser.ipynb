{
 "cells": [
  {
   "cell_type": "code",
   "execution_count": 7,
   "metadata": {},
   "outputs": [],
   "source": [
    "import duckdb\n",
    "import pandas as pd\n",
    "df = pd.DataFrame()\n",
    "def query(query, db_path='../data/datalake/database.duckdb'):\n",
    "    con = duckdb.connect(database=db_path, read_only=False)\n",
    "    try:\n",
    "        result = con.execute(query)\n",
    "        df_result = result.fetch_df()\n",
    "        return df_result\n",
    "    except Exception as e:\n",
    "        print(f\"error: {e}\")\n",
    "    finally:\n",
    "        con.close()"
   ]
  },
  {
   "cell_type": "code",
   "execution_count": 13,
   "metadata": {},
   "outputs": [
    {
     "data": {
      "text/html": [
       "<div>\n",
       "<style scoped>\n",
       "    .dataframe tbody tr th:only-of-type {\n",
       "        vertical-align: middle;\n",
       "    }\n",
       "\n",
       "    .dataframe tbody tr th {\n",
       "        vertical-align: top;\n",
       "    }\n",
       "\n",
       "    .dataframe thead th {\n",
       "        text-align: right;\n",
       "    }\n",
       "</style>\n",
       "<table border=\"1\" class=\"dataframe\">\n",
       "  <thead>\n",
       "    <tr style=\"text-align: right;\">\n",
       "      <th></th>\n",
       "      <th>stationShortCode</th>\n",
       "      <th>trainNumber</th>\n",
       "      <th>type</th>\n",
       "      <th>scheduledTime</th>\n",
       "      <th>actualTime</th>\n",
       "      <th>avg_delay_time</th>\n",
       "      <th>percent_delays</th>\n",
       "      <th>percent_early_arrivals</th>\n",
       "      <th>percent_cancelled</th>\n",
       "      <th>avg_differenceInMinutes</th>\n",
       "    </tr>\n",
       "  </thead>\n",
       "  <tbody>\n",
       "    <tr>\n",
       "      <th>0</th>\n",
       "      <td>KVLA</td>\n",
       "      <td>7157</td>\n",
       "      <td>DEPARTURE</td>\n",
       "      <td>2023-11-13 08:46:57</td>\n",
       "      <td>NaT</td>\n",
       "      <td>-4.0</td>\n",
       "      <td>0.0</td>\n",
       "      <td>0.5</td>\n",
       "      <td>0.5</td>\n",
       "      <td>-4.0</td>\n",
       "    </tr>\n",
       "  </tbody>\n",
       "</table>\n",
       "</div>"
      ],
      "text/plain": [
       "  stationShortCode  trainNumber       type       scheduledTime actualTime  \\\n",
       "0             KVLA         7157  DEPARTURE 2023-11-13 08:46:57        NaT   \n",
       "\n",
       "   avg_delay_time  percent_delays  percent_early_arrivals  percent_cancelled  \\\n",
       "0            -4.0             0.0                     0.5                0.5   \n",
       "\n",
       "   avg_differenceInMinutes  \n",
       "0                     -4.0  "
      ]
     },
     "execution_count": 13,
     "metadata": {},
     "output_type": "execute_result"
    }
   ],
   "source": [
    "query(\"select * from gold_layer where percent_early_arrivals < 1 and percent_early_arrivals > 0.1 \")"
   ]
  },
  {
   "cell_type": "code",
   "execution_count": null,
   "metadata": {},
   "outputs": [],
   "source": []
  }
 ],
 "metadata": {
  "kernelspec": {
   "display_name": ".venv",
   "language": "python",
   "name": "python3"
  },
  "language_info": {
   "codemirror_mode": {
    "name": "ipython",
    "version": 3
   },
   "file_extension": ".py",
   "mimetype": "text/x-python",
   "name": "python",
   "nbconvert_exporter": "python",
   "pygments_lexer": "ipython3",
   "version": "3.10.0"
  }
 },
 "nbformat": 4,
 "nbformat_minor": 2
}
