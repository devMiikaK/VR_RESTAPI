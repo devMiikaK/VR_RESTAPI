{
 "cells": [
  {
   "cell_type": "code",
   "execution_count": 1,
   "metadata": {},
   "outputs": [],
   "source": [
    "import requests\n",
    "import pandas as pd\n",
    "from datetime import datetime, timedelta\n",
    "\n",
    "base_url = \"https://rata.digitraffic.fi/api/v1/trains\"\n",
    "start_date = datetime(2023, 11, 1)\n",
    "end_date = datetime(2023, 11, 30)\n",
    "\n",
    "all_train_data = []\n",
    "\n",
    "for x in pd.date_range(start_date, end_date):\n",
    "    thedate = x.strftime(\"%Y-%m-%d\")\n",
    "    url = f\"{base_url}/{thedate}\"\n",
    "    \n",
    "    response = requests.get(url)\n",
    "    if response.status_code == 200:\n",
    "        data = response.json()\n",
    "        all_train_data.extend(data)\n",
    "    else:\n",
    "        print(f\"Failed to fetch data for {thedate}\")\n"
   ]
  },
  {
   "cell_type": "code",
   "execution_count": 4,
   "metadata": {},
   "outputs": [],
   "source": [
    "import duckdb\n",
    "df = pd.DataFrame(all_train_data)\n",
    "con = duckdb.connect(database='../data/datalake/database.duckdb', read_only=False)\n"
   ]
  },
  {
   "cell_type": "code",
   "execution_count": 5,
   "metadata": {},
   "outputs": [
    {
     "data": {
      "text/plain": [
       "<duckdb.duckdb.DuckDBPyConnection at 0x1caf81e49f0>"
      ]
     },
     "execution_count": 5,
     "metadata": {},
     "output_type": "execute_result"
    }
   ],
   "source": [
    "\n",
    "con.execute(\"drop table if exists traindata;\")\n",
    "con.execute(\"drop table if exists timetablerows;\")\n",
    "con.execute(\"drop table if exists time_rows;\")\n",
    "con.execute(\"\"\"\n",
    "create table if not exists traindata (\n",
    "    trainNumber int not null,\n",
    "    departureDate date,\n",
    "    operatorUICCode int,\n",
    "    operatorShortCode varchar,\n",
    "    trainType varchar,\n",
    "    trainCategory varchar,\n",
    "    commuterLineID varchar,\n",
    "    runningCurrently boolean,\n",
    "    cancelled boolean,\n",
    "    version bigint,\n",
    "    timetableType varchar,\n",
    "    timetableAcceptanceDate timestamp\n",
    ");\n",
    "\"\"\")\n",
    "con.execute(\"\"\"\n",
    "CREATE TABLE IF NOT EXISTS timetablerows (\n",
    "    trainNumber INT,\n",
    "    stationShortCode VARCHAR,\n",
    "    stationUICCode INT,\n",
    "    countryCode VARCHAR,\n",
    "    type VARCHAR,\n",
    "    trainStopping BOOLEAN,\n",
    "    commercialStop BOOLEAN,\n",
    "    commercialTrack VARCHAR,\n",
    "    cancelled BOOLEAN,\n",
    "    scheduledTime TIMESTAMP,\n",
    "    actualTime TIMESTAMP,\n",
    "    differenceInMinutes INT\n",
    ");\n",
    "\"\"\")"
   ]
  },
  {
   "cell_type": "code",
   "execution_count": 6,
   "metadata": {},
   "outputs": [],
   "source": [
    "time_rows = []\n",
    "for x in all_train_data:\n",
    "    train_n = x['trainNumber']\n",
    "    for row in x['timeTableRows']:\n",
    "        row['trainNumber'] = train_n\n",
    "        time_rows.append(row) # datassa sisäkkäisiä sarakkeita, suoritetaan \"normalisointi\"\n",
    "df_time = pd.DataFrame(time_rows)\n",
    "df = df.drop(columns=['timeTableRows'])\n"
   ]
  },
  {
   "cell_type": "code",
   "execution_count": 7,
   "metadata": {},
   "outputs": [
    {
     "name": "stderr",
     "output_type": "stream",
     "text": [
      "C:\\Users\\miika\\AppData\\Local\\Temp\\ipykernel_12492\\610619763.py:2: UserWarning: pandas only supports SQLAlchemy connectable (engine/connection) or database string URI or sqlite3 DBAPI2 connection. Other DBAPI2 objects are not tested. Please consider using SQLAlchemy.\n",
      "  df.to_sql('traindata', con, if_exists='append', index=False)\n"
     ]
    },
    {
     "data": {
      "text/plain": [
       "<duckdb.duckdb.DuckDBPyConnection at 0x1caf81e49f0>"
      ]
     },
     "execution_count": 7,
     "metadata": {},
     "output_type": "execute_result"
    }
   ],
   "source": [
    "con.begin()\n",
    "df.to_sql('traindata', con, if_exists='append', index=False)\n",
    "con.commit()"
   ]
  },
  {
   "cell_type": "code",
   "execution_count": 8,
   "metadata": {},
   "outputs": [
    {
     "name": "stderr",
     "output_type": "stream",
     "text": [
      "C:\\Users\\miika\\AppData\\Local\\Temp\\ipykernel_12492\\4049882935.py:2: UserWarning: pandas only supports SQLAlchemy connectable (engine/connection) or database string URI or sqlite3 DBAPI2 connection. Other DBAPI2 objects are not tested. Please consider using SQLAlchemy.\n",
      "  df_time.to_sql('time_rows', con, if_exists='append', index=False)\n"
     ]
    },
    {
     "data": {
      "text/plain": [
       "<duckdb.duckdb.DuckDBPyConnection at 0x1caf81e49f0>"
      ]
     },
     "execution_count": 8,
     "metadata": {},
     "output_type": "execute_result"
    }
   ],
   "source": [
    "con.begin()\n",
    "df_time.to_sql('time_rows', con, if_exists='append', index=False)\n",
    "con.execute(\"COPY time_rows TO 'time_rows.csv' (HEADER, DELIMITER ',');\") # csv tiedostoksi\n",
    "con.commit()"
   ]
  },
  {
   "cell_type": "code",
   "execution_count": 9,
   "metadata": {},
   "outputs": [],
   "source": [
    "con.close()"
   ]
  },
  {
   "cell_type": "code",
   "execution_count": null,
   "metadata": {},
   "outputs": [],
   "source": []
  }
 ],
 "metadata": {
  "kernelspec": {
   "display_name": ".venv",
   "language": "python",
   "name": "python3"
  },
  "language_info": {
   "codemirror_mode": {
    "name": "ipython",
    "version": 3
   },
   "file_extension": ".py",
   "mimetype": "text/x-python",
   "name": "python",
   "nbconvert_exporter": "python",
   "pygments_lexer": "ipython3",
   "version": "3.10.0"
  }
 },
 "nbformat": 4,
 "nbformat_minor": 2
}
